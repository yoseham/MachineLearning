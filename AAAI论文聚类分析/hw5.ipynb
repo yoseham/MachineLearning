{
 "cells": [
  {
   "cell_type": "markdown",
   "metadata": {},
   "source": [
    "本次实验以AAAI 2014会议论文数据为基础，要求实现或调用无监督聚类算法，了解聚类方法。"
   ]
  },
  {
   "cell_type": "markdown",
   "metadata": {},
   "source": [
    "### 任务介绍\n",
    "每年国际上召开的大大小小学术会议不计其数，发表了非常多的论文。在计算机领域的一些大型学术会议上，一次就可以发表涉及各个方向的几百篇论文。按论文的主题、内容进行聚类，有助于人们高效地查找和获得所需要的论文。本案例数据来源于AAAI 2014上发表的约400篇文章，由[UCI](https://archive.ics.uci.edu/ml/datasets/AAAI+2014+Accepted+Papers!)公开提供，提供包括标题、作者、关键词、摘要在内的信息，希望大家能根据这些信息，合理地构造特征向量来表示这些论文，并设计实现或调用聚类算法对论文进行聚类。最后也可以对聚类结果进行观察，看每一类都是什么样的论文，是否有一些主题。\n",
    "\n",
    "基本要求：\n",
    "1. 将文本转化为向量，实现或调用无监督聚类算法，对论文聚类，例如10类（可使用已有工具包例如sklearn）；\n",
    "2. 观察每一类中的论文，调整算法使结果较为合理；\n",
    "3. 无监督聚类没有标签，效果较难评价，因此没有硬性指标，跑通即可，主要让大家了解和感受聚类算法，比较简单。\n",
    "\n",
    "扩展要求：\n",
    "1. 对文本向量进行降维，并将聚类结果可视化成散点图。\n",
    "\n",
    "注：group和topic也不能完全算是标签，因为\n",
    "1. 有些文章作者投稿时可能会选择某个group/topic但实际和另外group/topic也相关甚至更相关；\n",
    "2. 一篇文章可能有多个group和topic，作为标签会出现有的文章同属多个类别，这里暂不考虑这样的聚类；\n",
    "3. group和topic的取值很多，但聚类常常希望指定聚合成出例如5/10/20类；\n",
    "4. 感兴趣但同学可以思考利用group和topic信息来量化评价无监督聚类结果，不作要求。\n",
    "\n",
    "提示：\n",
    "1. 高维向量的降维旨在去除一些高相关性的特征维度，保留最有用的信息，用更低维的向量表示高维数据，常用的方法有PCA和t-SNE等；\n",
    "2. 降维与聚类是两件不同的事情，聚类实际上在降维前的高维向量和降维后的低维向量上都可以进行，结果也可能截然不同；\n",
    "3. 高维向量做聚类，降维可视化后若有同一类的点不在一起，是正常的。在高维空间中它们可能是在一起的，降维后损失了一些信息。"
   ]
  },
  {
   "cell_type": "code",
   "execution_count": 1,
   "metadata": {},
   "outputs": [],
   "source": [
    "import pandas as pd"
   ]
  },
  {
   "cell_type": "code",
   "execution_count": 2,
   "metadata": {},
   "outputs": [
    {
     "data": {
      "text/html": [
       "<div>\n",
       "<style scoped>\n",
       "    .dataframe tbody tr th:only-of-type {\n",
       "        vertical-align: middle;\n",
       "    }\n",
       "\n",
       "    .dataframe tbody tr th {\n",
       "        vertical-align: top;\n",
       "    }\n",
       "\n",
       "    .dataframe thead th {\n",
       "        text-align: right;\n",
       "    }\n",
       "</style>\n",
       "<table border=\"1\" class=\"dataframe\">\n",
       "  <thead>\n",
       "    <tr style=\"text-align: right;\">\n",
       "      <th></th>\n",
       "      <th>title</th>\n",
       "      <th>authors</th>\n",
       "      <th>groups</th>\n",
       "      <th>keywords</th>\n",
       "      <th>topics</th>\n",
       "      <th>abstract</th>\n",
       "    </tr>\n",
       "  </thead>\n",
       "  <tbody>\n",
       "    <tr>\n",
       "      <th>0</th>\n",
       "      <td>Kernelized Bayesian Transfer Learning</td>\n",
       "      <td>Mehmet Gönen and Adam A. Margolin</td>\n",
       "      <td>Novel Machine Learning Algorithms (NMLA)</td>\n",
       "      <td>cross-domain learning\\ndomain adaptation\\nkern...</td>\n",
       "      <td>APP: Biomedical / Bioinformatics\\nNMLA: Bayesi...</td>\n",
       "      <td>Transfer learning considers related but distin...</td>\n",
       "    </tr>\n",
       "    <tr>\n",
       "      <th>1</th>\n",
       "      <td>\"Source Free\" Transfer Learning for Text Class...</td>\n",
       "      <td>Zhongqi Lu, Yin Zhu, Sinno Pan, Evan Xiang, Yu...</td>\n",
       "      <td>AI and the Web (AIW)\\nNovel Machine Learning A...</td>\n",
       "      <td>Transfer Learning\\nAuxiliary Data Retrieval\\nT...</td>\n",
       "      <td>AIW: Knowledge acquisition from the web\\nAIW: ...</td>\n",
       "      <td>Transfer learning uses relevant auxiliary data...</td>\n",
       "    </tr>\n",
       "    <tr>\n",
       "      <th>2</th>\n",
       "      <td>A Generalization of Probabilistic Serial to Ra...</td>\n",
       "      <td>Haris Aziz and Paul Stursberg</td>\n",
       "      <td>Game Theory and Economic Paradigms (GTEP)</td>\n",
       "      <td>social choice theory\\nvoting\\nfair division\\ns...</td>\n",
       "      <td>GTEP: Game Theory\\nGTEP: Social Choice / Voting</td>\n",
       "      <td>The probabilistic serial (PS) rule is one of t...</td>\n",
       "    </tr>\n",
       "    <tr>\n",
       "      <th>3</th>\n",
       "      <td>Lifetime Lexical Variation in Social Media</td>\n",
       "      <td>Liao Lizi, Jing Jiang, Ying Ding, Heyan Huang ...</td>\n",
       "      <td>NLP and Text Mining (NLPTM)</td>\n",
       "      <td>Generative model\\nSocial Networks\\nAge Prediction</td>\n",
       "      <td>AIW: Web personalization and user modeling\\nNL...</td>\n",
       "      <td>As the rapid growth of online social media att...</td>\n",
       "    </tr>\n",
       "    <tr>\n",
       "      <th>4</th>\n",
       "      <td>Hybrid Singular Value Thresholding for Tensor ...</td>\n",
       "      <td>Xiaoqin Zhang, Zhengyuan Zhou, Di Wang and Yi Ma</td>\n",
       "      <td>Knowledge Representation and Reasoning (KRR)\\n...</td>\n",
       "      <td>tensor completion\\nlow-rank recovery\\nhybrid s...</td>\n",
       "      <td>KRR: Knowledge Representation (General/Other)\\...</td>\n",
       "      <td>In this paper, we study the low-rank tensor co...</td>\n",
       "    </tr>\n",
       "  </tbody>\n",
       "</table>\n",
       "</div>"
      ],
      "text/plain": [
       "                                               title  \\\n",
       "0              Kernelized Bayesian Transfer Learning   \n",
       "1  \"Source Free\" Transfer Learning for Text Class...   \n",
       "2  A Generalization of Probabilistic Serial to Ra...   \n",
       "3         Lifetime Lexical Variation in Social Media   \n",
       "4  Hybrid Singular Value Thresholding for Tensor ...   \n",
       "\n",
       "                                             authors  \\\n",
       "0                  Mehmet Gönen and Adam A. Margolin   \n",
       "1  Zhongqi Lu, Yin Zhu, Sinno Pan, Evan Xiang, Yu...   \n",
       "2                      Haris Aziz and Paul Stursberg   \n",
       "3  Liao Lizi, Jing Jiang, Ying Ding, Heyan Huang ...   \n",
       "4   Xiaoqin Zhang, Zhengyuan Zhou, Di Wang and Yi Ma   \n",
       "\n",
       "                                              groups  \\\n",
       "0           Novel Machine Learning Algorithms (NMLA)   \n",
       "1  AI and the Web (AIW)\\nNovel Machine Learning A...   \n",
       "2          Game Theory and Economic Paradigms (GTEP)   \n",
       "3                        NLP and Text Mining (NLPTM)   \n",
       "4  Knowledge Representation and Reasoning (KRR)\\n...   \n",
       "\n",
       "                                            keywords  \\\n",
       "0  cross-domain learning\\ndomain adaptation\\nkern...   \n",
       "1  Transfer Learning\\nAuxiliary Data Retrieval\\nT...   \n",
       "2  social choice theory\\nvoting\\nfair division\\ns...   \n",
       "3  Generative model\\nSocial Networks\\nAge Prediction   \n",
       "4  tensor completion\\nlow-rank recovery\\nhybrid s...   \n",
       "\n",
       "                                              topics  \\\n",
       "0  APP: Biomedical / Bioinformatics\\nNMLA: Bayesi...   \n",
       "1  AIW: Knowledge acquisition from the web\\nAIW: ...   \n",
       "2    GTEP: Game Theory\\nGTEP: Social Choice / Voting   \n",
       "3  AIW: Web personalization and user modeling\\nNL...   \n",
       "4  KRR: Knowledge Representation (General/Other)\\...   \n",
       "\n",
       "                                            abstract  \n",
       "0  Transfer learning considers related but distin...  \n",
       "1  Transfer learning uses relevant auxiliary data...  \n",
       "2  The probabilistic serial (PS) rule is one of t...  \n",
       "3  As the rapid growth of online social media att...  \n",
       "4  In this paper, we study the low-rank tensor co...  "
      ]
     },
     "execution_count": 2,
     "metadata": {},
     "output_type": "execute_result"
    }
   ],
   "source": [
    "df = pd.read_csv('./data/[UCI] AAAI-14 Accepted Papers - Papers.csv').astype(str)\n",
    "df.head()"
   ]
  },
  {
   "cell_type": "code",
   "execution_count": 3,
   "metadata": {},
   "outputs": [
    {
     "name": "stdout",
     "output_type": "stream",
     "text": [
      "['title', 'authors', 'groups', 'keywords', 'topics', 'abstract']\n"
     ]
    }
   ],
   "source": [
    "import re\n",
    "import nltk\n",
    "from nltk.corpus import stopwords\n",
    "en_stops = set(stopwords.words('english'))\n",
    "columns = list(df.columns)\n",
    "print(columns)    \n",
    "def create_feature(x):\n",
    "    words = []\n",
    "    for col in columns:\n",
    "        words.extend(nltk.word_tokenize(x[col].strip()))\n",
    "    filter_words = []\n",
    "    porter = nltk.PorterStemmer()\n",
    "    for word in words:\n",
    "        if word.isdigit() == False and re.search(\"\\W\", word) == None and word not in en_stops:\n",
    "            filter_words.append(porter.stem(word))\n",
    "    return \" \".join(filter_words)"
   ]
  },
  {
   "cell_type": "code",
   "execution_count": 4,
   "metadata": {},
   "outputs": [],
   "source": [
    "df['feature'] = df.apply(create_feature, axis=1)"
   ]
  },
  {
   "cell_type": "code",
   "execution_count": 5,
   "metadata": {},
   "outputs": [
    {
     "data": {
      "text/plain": [
       "0      kernel bayesian transfer learn mehmet gönen ad...\n",
       "1      sourc free transfer learn text classif zhongqi...\n",
       "2      a gener probabilist serial random social choic...\n",
       "3      lifetim lexic variat social media liao lizi ji...\n",
       "4      hybrid singular valu threshold tensor complet ...\n",
       "                             ...                        \n",
       "393    map user across network manifold align hypergr...\n",
       "394    compact aspect embed for diversifi queri expan...\n",
       "395    contract revis tbox zhiqiang zhuang zhe wang k...\n",
       "396    zero pronoun resolut rank chen chen vincent ng...\n",
       "397    supervis transfer spars code maruan jim wang m...\n",
       "Name: feature, Length: 398, dtype: object"
      ]
     },
     "execution_count": 5,
     "metadata": {},
     "output_type": "execute_result"
    }
   ],
   "source": [
    "df['feature']"
   ]
  },
  {
   "cell_type": "code",
   "execution_count": 6,
   "metadata": {},
   "outputs": [
    {
     "data": {
      "text/plain": [
       "TfidfVectorizer(max_features=100,\n",
       "                stop_words={'a', 'about', 'above', 'after', 'again', 'against',\n",
       "                            'ain', 'all', 'am', 'an', 'and', 'any', 'are',\n",
       "                            'aren', \"aren't\", 'as', 'at', 'be', 'because',\n",
       "                            'been', 'before', 'being', 'below', 'between',\n",
       "                            'both', 'but', 'by', 'can', 'couldn', \"couldn't\", ...})"
      ]
     },
     "execution_count": 6,
     "metadata": {},
     "output_type": "execute_result"
    }
   ],
   "source": [
    "from sklearn.feature_extraction.text import TfidfVectorizer\n",
    "cv = TfidfVectorizer(stop_words=en_stops, max_features=100)\n",
    "cv.fit(df['feature'])"
   ]
  },
  {
   "cell_type": "code",
   "execution_count": 7,
   "metadata": {
    "scrolled": true
   },
   "outputs": [
    {
     "data": {
      "text/plain": [
       "{'learn': 43,\n",
       " 'novel': 54,\n",
       " 'machin': 44,\n",
       " 'algorithm': 3,\n",
       " 'nmla': 53,\n",
       " 'domain': 21,\n",
       " 'method': 47,\n",
       " 'app': 6,\n",
       " 'object': 56,\n",
       " 'task': 89,\n",
       " 'knowledg': 39,\n",
       " 'improv': 37,\n",
       " 'gener': 32,\n",
       " 'perform': 61,\n",
       " 'use': 96,\n",
       " 'label': 41,\n",
       " 'data': 15,\n",
       " 'effect': 23,\n",
       " 'paper': 60,\n",
       " 'framework': 29,\n",
       " 'model': 49,\n",
       " 'classif': 11,\n",
       " 'two': 94,\n",
       " 'probabilist': 66,\n",
       " 'effici': 24,\n",
       " 'differ': 19,\n",
       " 'applic': 7,\n",
       " 'comput': 13,\n",
       " 'experi': 27,\n",
       " 'supervis': 87,\n",
       " 'set': 80,\n",
       " 'predict': 63,\n",
       " 'show': 81,\n",
       " 'ai': 1,\n",
       " 'web': 98,\n",
       " 'aiw': 2,\n",
       " 'propos': 69,\n",
       " 'mani': 45,\n",
       " 'howev': 35,\n",
       " 'problem': 67,\n",
       " 'select': 78,\n",
       " 'base': 9,\n",
       " 'dataset': 16,\n",
       " 'search': 77,\n",
       " 'new': 52,\n",
       " 'social': 82,\n",
       " 'game': 31,\n",
       " 'theori': 91,\n",
       " 'gtep': 34,\n",
       " 'ps': 71,\n",
       " 'one': 57,\n",
       " 'present': 65,\n",
       " 'also': 4,\n",
       " 'prefer': 64,\n",
       " 'natur': 50,\n",
       " 'network': 51,\n",
       " 'user': 97,\n",
       " 'inform': 38,\n",
       " 'languag': 42,\n",
       " 'process': 68,\n",
       " 'onlin': 58,\n",
       " 'number': 55,\n",
       " 'provid': 70,\n",
       " 'studi': 86,\n",
       " 'distribut': 20,\n",
       " 'evalu': 25,\n",
       " 'represent': 73,\n",
       " 'reason': 72,\n",
       " 'krr': 40,\n",
       " 'mla': 48,\n",
       " 'function': 30,\n",
       " 'time': 93,\n",
       " 'thi': 92,\n",
       " 'solut': 83,\n",
       " 'result': 74,\n",
       " 'exist': 26,\n",
       " 'imag': 36,\n",
       " 'structur': 85,\n",
       " 'solv': 84,\n",
       " 'optim': 59,\n",
       " 'demonstr': 17,\n",
       " 'constraint': 14,\n",
       " 'approach': 8,\n",
       " 'work': 99,\n",
       " 'graph': 33,\n",
       " 'featur': 28,\n",
       " 'semant': 79,\n",
       " 'uncertainti': 95,\n",
       " 'ru': 76,\n",
       " 'analysi': 5,\n",
       " 'techniqu': 90,\n",
       " 'plan': 62,\n",
       " 'system': 88,\n",
       " 'mechan': 46,\n",
       " 'design': 18,\n",
       " 'dynam': 22,\n",
       " 'agent': 0,\n",
       " 'complex': 12,\n",
       " 'robot': 75,\n",
       " 'behavior': 10}"
      ]
     },
     "execution_count": 7,
     "metadata": {},
     "output_type": "execute_result"
    }
   ],
   "source": [
    "cv.vocabulary_"
   ]
  },
  {
   "cell_type": "code",
   "execution_count": 8,
   "metadata": {},
   "outputs": [
    {
     "data": {
      "text/plain": [
       "(398, 100)"
      ]
     },
     "execution_count": 8,
     "metadata": {},
     "output_type": "execute_result"
    }
   ],
   "source": [
    "data = cv.transform(df['feature'])\n",
    "data.toarray().shape"
   ]
  },
  {
   "cell_type": "code",
   "execution_count": 9,
   "metadata": {},
   "outputs": [
    {
     "data": {
      "text/plain": [
       "KMeans(n_clusters=10, random_state=2022)"
      ]
     },
     "execution_count": 9,
     "metadata": {},
     "output_type": "execute_result"
    }
   ],
   "source": [
    "from sklearn.cluster import KMeans\n",
    "kmeans = KMeans(n_clusters=10, random_state=2022)\n",
    "kmeans.fit(data)"
   ]
  },
  {
   "cell_type": "code",
   "execution_count": 10,
   "metadata": {},
   "outputs": [
    {
     "data": {
      "text/plain": [
       "array([4, 4, 2, 5, 7, 7, 7, 4, 6, 8, 0, 7, 7, 5, 3, 4, 9, 5, 8, 8, 9, 1,\n",
       "       9, 4, 3, 6, 6, 0, 5, 5, 2, 3, 7, 4, 2, 1, 4, 2, 6, 9, 4, 1, 4, 3,\n",
       "       2, 1, 4, 4, 6, 3, 6, 6, 6, 6, 7, 6, 1, 2, 8, 4, 2, 7, 6, 4, 5, 2,\n",
       "       1, 2, 7, 1, 2, 1, 4, 7, 8, 4, 1, 2, 1, 2, 5, 5, 5, 8, 4, 6, 4, 6,\n",
       "       4, 4, 4, 7, 3, 9, 4, 0, 8, 2, 4, 7, 1, 6, 4, 6, 7, 0, 2, 3, 4, 3,\n",
       "       2, 0, 4, 1, 7, 0, 5, 9, 4, 4, 3, 4, 4, 3, 9, 4, 7, 3, 4, 3, 7, 1,\n",
       "       4, 7, 9, 2, 4, 8, 3, 4, 1, 4, 4, 6, 4, 4, 0, 4, 3, 2, 4, 8, 3, 7,\n",
       "       4, 0, 5, 3, 4, 7, 4, 9, 1, 7, 0, 5, 9, 6, 3, 7, 1, 9, 3, 1, 1, 4,\n",
       "       5, 0, 5, 7, 1, 2, 4, 7, 1, 0, 6, 5, 9, 2, 2, 2, 0, 4, 4, 5, 3, 2,\n",
       "       7, 4, 0, 0, 6, 6, 6, 1, 3, 7, 8, 6, 4, 4, 7, 6, 3, 7, 3, 4, 3, 8,\n",
       "       6, 7, 4, 4, 2, 4, 6, 7, 7, 4, 7, 4, 4, 2, 5, 0, 6, 0, 7, 7, 4, 6,\n",
       "       4, 4, 5, 2, 4, 0, 7, 4, 0, 8, 2, 7, 4, 5, 3, 7, 7, 4, 7, 2, 5, 5,\n",
       "       7, 2, 0, 5, 5, 5, 2, 7, 2, 7, 7, 4, 8, 0, 7, 1, 6, 3, 7, 0, 0, 8,\n",
       "       5, 1, 4, 6, 6, 1, 0, 4, 1, 2, 6, 6, 4, 8, 5, 4, 4, 2, 2, 4, 6, 2,\n",
       "       3, 4, 7, 6, 3, 9, 0, 3, 7, 5, 4, 7, 2, 1, 4, 5, 1, 2, 0, 7, 4, 4,\n",
       "       9, 4, 4, 0, 0, 8, 9, 9, 0, 4, 1, 3, 9, 2, 7, 3, 3, 2, 1, 7, 4, 6,\n",
       "       1, 7, 1, 4, 1, 3, 7, 2, 4, 6, 7, 4, 7, 4, 2, 7, 7, 7, 2, 0, 7, 4,\n",
       "       1, 7, 6, 3, 4, 4, 3, 6, 4, 1, 3, 6, 0, 0, 4, 0, 2, 3, 4, 5, 6, 1,\n",
       "       6, 4], dtype=int32)"
      ]
     },
     "execution_count": 10,
     "metadata": {},
     "output_type": "execute_result"
    }
   ],
   "source": [
    "kmeans.labels_"
   ]
  },
  {
   "cell_type": "code",
   "execution_count": 11,
   "metadata": {
    "scrolled": true
   },
   "outputs": [
    {
     "data": {
      "text/plain": [
       "array([[0.01092092, 0.        , 0.        , 0.10530747, 0.03551788,\n",
       "        0.03156073, 0.00299538, 0.01329303, 0.03483934, 0.02672287,\n",
       "        0.0073534 , 0.        , 0.02951911, 0.03062878, 0.3907924 ,\n",
       "        0.010972  , 0.        , 0.0237417 , 0.03787566, 0.02124845,\n",
       "        0.05171114, 0.02524934, 0.01297652, 0.0164583 , 0.04306422,\n",
       "        0.05496974, 0.01963541, 0.01871298, 0.00222831, 0.01217454,\n",
       "        0.00757003, 0.00427125, 0.04724059, 0.05883655, 0.        ,\n",
       "        0.01989216, 0.        , 0.02747683, 0.00329617, 0.00395655,\n",
       "        0.01052471, 0.        , 0.        , 0.03117312, 0.01014745,\n",
       "        0.03621164, 0.        , 0.0271776 , 0.00511648, 0.0484939 ,\n",
       "        0.00957459, 0.00391714, 0.05225044, 0.00544807, 0.01110202,\n",
       "        0.05471543, 0.01128977, 0.0525913 , 0.        , 0.11200449,\n",
       "        0.037392  , 0.03129422, 0.04501787, 0.        , 0.01346105,\n",
       "        0.02027218, 0.        , 0.09493121, 0.00991585, 0.02497366,\n",
       "        0.01673129, 0.05763075, 0.01712405, 0.00688409, 0.0382397 ,\n",
       "        0.01583555, 0.00552208, 0.39100019, 0.01352678, 0.        ,\n",
       "        0.0563242 , 0.05004709, 0.        , 0.06988911, 0.07638563,\n",
       "        0.02926072, 0.01432723, 0.        , 0.00898425, 0.01840291,\n",
       "        0.04425627, 0.00406644, 0.0226968 , 0.05358988, 0.02026584,\n",
       "        0.0026882 , 0.06118173, 0.        , 0.        , 0.01233699],\n",
       "       [0.01102795, 0.0191834 , 0.036522  , 0.04618548, 0.02925925,\n",
       "        0.0319333 , 0.0236688 , 0.04181025, 0.03133865, 0.05301764,\n",
       "        0.        , 0.01092128, 0.11207372, 0.08234588, 0.04959304,\n",
       "        0.07065555, 0.00280456, 0.00619496, 0.0152822 , 0.0122603 ,\n",
       "        0.00688659, 0.02260263, 0.01014583, 0.01412135, 0.03778068,\n",
       "        0.03196057, 0.01474453, 0.01392596, 0.        , 0.04116619,\n",
       "        0.0225021 , 0.00837137, 0.05639699, 0.0379547 , 0.00325211,\n",
       "        0.01279074, 0.00575359, 0.01772675, 0.01781917, 0.20014256,\n",
       "        0.37784142, 0.0083028 , 0.10799258, 0.01851187, 0.01336543,\n",
       "        0.0307989 , 0.01592768, 0.01520474, 0.01645927, 0.06098985,\n",
       "        0.03536365, 0.02381401, 0.02117178, 0.00301609, 0.02013755,\n",
       "        0.03136116, 0.00808967, 0.03393625, 0.00372463, 0.01217881,\n",
       "        0.03152596, 0.01939772, 0.00975104, 0.01478865, 0.02971252,\n",
       "        0.05050892, 0.        , 0.07725568, 0.00802857, 0.02205428,\n",
       "        0.04703654, 0.        , 0.2896216 , 0.16497733, 0.04013618,\n",
       "        0.02950685, 0.02826337, 0.02322893, 0.02275027, 0.08241878,\n",
       "        0.05664379, 0.04604175, 0.00661818, 0.01681615, 0.01183939,\n",
       "        0.03338911, 0.02125493, 0.00481097, 0.05888067, 0.04167542,\n",
       "        0.01410734, 0.        , 0.02382348, 0.0130277 , 0.01612623,\n",
       "        0.02665404, 0.04779907, 0.00967772, 0.04033488, 0.02271669],\n",
       "       [0.08402427, 0.01055808, 0.        , 0.06119567, 0.03491058,\n",
       "        0.01507744, 0.0163945 , 0.0123831 , 0.01275355, 0.02204954,\n",
       "        0.01858352, 0.        , 0.02538433, 0.12642034, 0.        ,\n",
       "        0.00575537, 0.        , 0.00859585, 0.00514028, 0.01829628,\n",
       "        0.01696844, 0.03300085, 0.02479772, 0.00703511, 0.05321013,\n",
       "        0.01480578, 0.02565136, 0.00651998, 0.        , 0.00495498,\n",
       "        0.03630304, 0.41184172, 0.03881094, 0.01213812, 0.33157062,\n",
       "        0.02518457, 0.        , 0.00551994, 0.04826296, 0.01237232,\n",
       "        0.02318008, 0.        , 0.00863089, 0.0160725 , 0.        ,\n",
       "        0.01865638, 0.00700995, 0.00509009, 0.        , 0.04864478,\n",
       "        0.02480189, 0.01481869, 0.01688261, 0.        , 0.00737871,\n",
       "        0.0678106 , 0.00596847, 0.04081989, 0.00993384, 0.0563078 ,\n",
       "        0.01856226, 0.01679655, 0.        , 0.02354878, 0.13096423,\n",
       "        0.02266984, 0.0048962 , 0.06310846, 0.00595198, 0.01559834,\n",
       "        0.01922938, 0.00493025, 0.02358751, 0.02633815, 0.04121114,\n",
       "        0.        , 0.00231957, 0.00422598, 0.03221724, 0.        ,\n",
       "        0.03968717, 0.06101455, 0.19828267, 0.03955741, 0.0308159 ,\n",
       "        0.02341741, 0.03395439, 0.        , 0.0759858 , 0.00146557,\n",
       "        0.01333953, 0.19356932, 0.02960317, 0.02770502, 0.02889264,\n",
       "        0.02029945, 0.04717517, 0.        , 0.        , 0.02314596],\n",
       "       [0.04840099, 0.03587687, 0.01000147, 0.04064921, 0.01037559,\n",
       "        0.01084764, 0.02215292, 0.02418813, 0.05456425, 0.03576448,\n",
       "        0.0159387 , 0.00224324, 0.02000884, 0.04771546, 0.05063251,\n",
       "        0.00272325, 0.        , 0.0127979 , 0.02161291, 0.01622968,\n",
       "        0.00121382, 0.04734159, 0.02019213, 0.00928286, 0.02199102,\n",
       "        0.02249079, 0.02172593, 0.00632573, 0.00717134, 0.01867334,\n",
       "        0.02887959, 0.02577837, 0.07123035, 0.00361775, 0.00265988,\n",
       "        0.0088067 , 0.00268276, 0.01481875, 0.02568957, 0.02555415,\n",
       "        0.05049021, 0.02185152, 0.00761557, 0.0355896 , 0.0113499 ,\n",
       "        0.01313474, 0.00352198, 0.02353399, 0.00622244, 0.06063004,\n",
       "        0.00871584, 0.0126875 , 0.02393671, 0.00892375, 0.00809825,\n",
       "        0.01911474, 0.02451913, 0.01450572, 0.04010426, 0.07103311,\n",
       "        0.02475681, 0.01529419, 0.52830066, 0.01263351, 0.00660665,\n",
       "        0.02541198, 0.07032294, 0.10570437, 0.05026743, 0.0186164 ,\n",
       "        0.01819249, 0.23835296, 0.08719921, 0.03466015, 0.02387166,\n",
       "        0.10003358, 0.0892823 , 0.07317033, 0.01860066, 0.0148209 ,\n",
       "        0.0279671 , 0.03259959, 0.01587854, 0.01584993, 0.04212313,\n",
       "        0.01253806, 0.0267355 , 0.        , 0.04455681, 0.01469816,\n",
       "        0.01841554, 0.02620512, 0.02968818, 0.02165639, 0.01679745,\n",
       "        0.09914907, 0.04585296, 0.        , 0.00994103, 0.03588108],\n",
       "       [0.0153597 , 0.01360292, 0.00355021, 0.10551177, 0.02009856,\n",
       "        0.03141194, 0.04147263, 0.10712233, 0.07671768, 0.04234912,\n",
       "        0.04736934, 0.10986138, 0.02239779, 0.02587472, 0.01215122,\n",
       "        0.11306783, 0.04418988, 0.04425384, 0.0200225 , 0.0423451 ,\n",
       "        0.02595525, 0.0595119 , 0.01465741, 0.0278295 , 0.02750383,\n",
       "        0.02750466, 0.02846403, 0.03842985, 0.04811289, 0.03790774,\n",
       "        0.04684161, 0.00147973, 0.03525804, 0.02144602, 0.00314037,\n",
       "        0.02530694, 0.00904826, 0.02836722, 0.02515134, 0.02498656,\n",
       "        0.00518803, 0.09624445, 0.01813496, 0.37434833, 0.13412041,\n",
       "        0.0267185 , 0.00093469, 0.072515  , 0.10554006, 0.1075122 ,\n",
       "        0.0296447 , 0.00857787, 0.03244701, 0.17300075, 0.06437824,\n",
       "        0.01666301, 0.01789027, 0.01974005, 0.04418653, 0.0412091 ,\n",
       "        0.03527694, 0.04050741, 0.00254404, 0.05495738, 0.01118927,\n",
       "        0.02347705, 0.02037137, 0.04044407, 0.03040259, 0.07573224,\n",
       "        0.01925183, 0.00350556, 0.01183205, 0.01919689, 0.03236906,\n",
       "        0.02143187, 0.02330833, 0.00720527, 0.03513731, 0.01104905,\n",
       "        0.04282367, 0.03628179, 0.00270063, 0.01599557, 0.00949262,\n",
       "        0.05496416, 0.02966794, 0.07242215, 0.02345736, 0.05707876,\n",
       "        0.02641525, 0.01028632, 0.02674234, 0.0218869 , 0.03626574,\n",
       "        0.01555408, 0.06448248, 0.01866138, 0.00579361, 0.01964667],\n",
       "       [0.        , 0.0496078 , 0.10807838, 0.0571329 , 0.0462499 ,\n",
       "        0.02233373, 0.04573782, 0.04005747, 0.01646779, 0.02741779,\n",
       "        0.07364125, 0.        , 0.00890735, 0.03592533, 0.        ,\n",
       "        0.0492348 , 0.04178519, 0.02515636, 0.00855269, 0.06019285,\n",
       "        0.01110876, 0.00573344, 0.07838385, 0.03006766, 0.02928171,\n",
       "        0.02649649, 0.02994525, 0.02362636, 0.01692425, 0.0235467 ,\n",
       "        0.02216308, 0.01403302, 0.02939735, 0.00785303, 0.02229324,\n",
       "        0.02160683, 0.00619768, 0.05071001, 0.04804495, 0.00447954,\n",
       "        0.        , 0.00319789, 0.01245644, 0.06856398, 0.02788176,\n",
       "        0.01570774, 0.        , 0.05497518, 0.0239872 , 0.22679852,\n",
       "        0.0119705 , 0.35469715, 0.02632285, 0.03107175, 0.02196224,\n",
       "        0.01492568, 0.02510478, 0.01542138, 0.02180423, 0.04035249,\n",
       "        0.04864841, 0.02368383, 0.01384134, 0.12100205, 0.        ,\n",
       "        0.02056176, 0.03406959, 0.0474283 , 0.05684093, 0.06227113,\n",
       "        0.02282923, 0.00589703, 0.01433152, 0.00722601, 0.02798321,\n",
       "        0.01302526, 0.03987077, 0.03387578, 0.00839717, 0.        ,\n",
       "        0.0260504 , 0.03532564, 0.25598908, 0.03475639, 0.01188525,\n",
       "        0.03612978, 0.03008793, 0.01417023, 0.05829729, 0.02928616,\n",
       "        0.01465285, 0.02009797, 0.02345886, 0.02298834, 0.01953893,\n",
       "        0.01768219, 0.05016666, 0.1575965 , 0.07554739, 0.01820704],\n",
       "       [0.01879622, 0.0709049 , 0.17393684, 0.03729064, 0.02301766,\n",
       "        0.02700075, 0.02757221, 0.04331332, 0.08100449, 0.04562687,\n",
       "        0.01096306, 0.04414925, 0.01007492, 0.01583788, 0.        ,\n",
       "        0.07169629, 0.02494053, 0.02799493, 0.01463632, 0.01369623,\n",
       "        0.01455423, 0.01921025, 0.02384089, 0.01799286, 0.0069785 ,\n",
       "        0.021507  , 0.0347158 , 0.03607392, 0.05918188, 0.02495555,\n",
       "        0.0269063 , 0.00181895, 0.04236253, 0.00558389, 0.00164818,\n",
       "        0.01802753, 0.00484044, 0.02599911, 0.06877241, 0.08355965,\n",
       "        0.01298609, 0.00703541, 0.17087435, 0.08850129, 0.06828926,\n",
       "        0.00902001, 0.        , 0.06414459, 0.02689936, 0.13607437,\n",
       "        0.10412095, 0.02388211, 0.01875719, 0.03416625, 0.04272542,\n",
       "        0.02196869, 0.05234672, 0.00973664, 0.03436617, 0.00960341,\n",
       "        0.04956633, 0.04782635, 0.00375052, 0.07342845, 0.03525246,\n",
       "        0.02724662, 0.01815447, 0.02027335, 0.06002302, 0.05216409,\n",
       "        0.01771341, 0.        , 0.02624023, 0.06791549, 0.06173709,\n",
       "        0.04433141, 0.00200672, 0.05015867, 0.02116848, 0.09762692,\n",
       "        0.02367147, 0.03338259, 0.00765185, 0.00718515, 0.00634993,\n",
       "        0.01438879, 0.02637574, 0.02568311, 0.11027381, 0.07420012,\n",
       "        0.02726838, 0.00898164, 0.02256366, 0.01555892, 0.0159341 ,\n",
       "        0.        , 0.0565947 , 0.08041771, 0.20965088, 0.01932177],\n",
       "       [0.0422337 , 0.02599342, 0.00197496, 0.12174925, 0.0391742 ,\n",
       "        0.04642461, 0.02535657, 0.04828246, 0.05176025, 0.05303388,\n",
       "        0.00680868, 0.00118509, 0.0227117 , 0.06301485, 0.03396901,\n",
       "        0.10756051, 0.02633031, 0.02459885, 0.00819746, 0.02240197,\n",
       "        0.0547945 , 0.02268885, 0.05355484, 0.05079907, 0.04561309,\n",
       "        0.02960436, 0.03601524, 0.03155773, 0.08466926, 0.01125083,\n",
       "        0.03218829, 0.00249054, 0.06296364, 0.0753493 , 0.        ,\n",
       "        0.02909917, 0.00654675, 0.02451156, 0.03157413, 0.0313431 ,\n",
       "        0.00739265, 0.00128437, 0.00832819, 0.13435996, 0.06558992,\n",
       "        0.02806546, 0.        , 0.16007143, 0.02549308, 0.08126241,\n",
       "        0.01102606, 0.01689342, 0.06527294, 0.11852624, 0.06376036,\n",
       "        0.02206075, 0.04496454, 0.0109934 , 0.0147602 , 0.08914591,\n",
       "        0.05069504, 0.04431082, 0.00967206, 0.01617491, 0.01590171,\n",
       "        0.04317214, 0.08251269, 0.12047034, 0.02771052, 0.08495582,\n",
       "        0.03316688, 0.        , 0.03156959, 0.03876661, 0.04891283,\n",
       "        0.00314971, 0.05346238, 0.02813181, 0.07567297, 0.00359551,\n",
       "        0.04882952, 0.04780142, 0.00442044, 0.03837334, 0.06743184,\n",
       "        0.02860355, 0.00986889, 0.0060697 , 0.03891137, 0.04164473,\n",
       "        0.03035727, 0.00930115, 0.04048822, 0.0352899 , 0.02627954,\n",
       "        0.02581146, 0.06669448, 0.01194206, 0.00098151, 0.02953502],\n",
       "       [0.        , 0.01857469, 0.04023352, 0.04297865, 0.01295515,\n",
       "        0.03700086, 0.00845748, 0.06581841, 0.05552573, 0.03083715,\n",
       "        0.        , 0.06663792, 0.00536872, 0.01313854, 0.02071948,\n",
       "        0.06287573, 0.06759958, 0.01433272, 0.01873837, 0.02562357,\n",
       "        0.00350242, 0.06243869, 0.        , 0.02922171, 0.02559236,\n",
       "        0.02051346, 0.04135189, 0.04336499, 0.04395193, 0.01881756,\n",
       "        0.02728949, 0.        , 0.01174183, 0.076207  , 0.        ,\n",
       "        0.03231508, 0.59433434, 0.02041851, 0.05853245, 0.027984  ,\n",
       "        0.        , 0.05759006, 0.00710738, 0.18565793, 0.04053154,\n",
       "        0.02847514, 0.        , 0.11507392, 0.04683475, 0.05084252,\n",
       "        0.        , 0.02928275, 0.0190087 , 0.05191901, 0.04342747,\n",
       "        0.00748471, 0.05024933, 0.03336117, 0.02633539, 0.02407338,\n",
       "        0.02718679, 0.02695112, 0.        , 0.        , 0.        ,\n",
       "        0.02461542, 0.01459996, 0.03504128, 0.01685572, 0.07092184,\n",
       "        0.0120336 , 0.        , 0.        , 0.0631029 , 0.03450528,\n",
       "        0.04680976, 0.        , 0.04873282, 0.        , 0.12407714,\n",
       "        0.02101411, 0.02086809, 0.06356026, 0.00525266, 0.02627721,\n",
       "        0.05612899, 0.01911961, 0.06032279, 0.00859   , 0.01999921,\n",
       "        0.01626237, 0.        , 0.01387173, 0.01167366, 0.03941765,\n",
       "        0.        , 0.03249123, 0.00857128, 0.04683598, 0.00647359],\n",
       "       [0.21691066, 0.0201091 , 0.        , 0.0110932 , 0.02081354,\n",
       "        0.01159227, 0.02627907, 0.01565027, 0.01454432, 0.0089119 ,\n",
       "        0.02058295, 0.        , 0.02715465, 0.06274829, 0.00274262,\n",
       "        0.00850766, 0.        , 0.01315909, 0.24647484, 0.02992437,\n",
       "        0.03727052, 0.01771379, 0.00559578, 0.02673903, 0.04391699,\n",
       "        0.00702037, 0.02243817, 0.02667937, 0.00466938, 0.01545271,\n",
       "        0.04967938, 0.15791375, 0.03319997, 0.02986389, 0.20153853,\n",
       "        0.02613054, 0.        , 0.02112445, 0.04132033, 0.00418537,\n",
       "        0.        , 0.        , 0.        , 0.00496627, 0.        ,\n",
       "        0.03045751, 0.51832217, 0.01294606, 0.        , 0.03180497,\n",
       "        0.01031967, 0.        , 0.0121536 , 0.        , 0.00613783,\n",
       "        0.02804437, 0.01542997, 0.02568132, 0.04872826, 0.0222588 ,\n",
       "        0.02656674, 0.03016879, 0.01461273, 0.00480026, 0.06567424,\n",
       "        0.03207126, 0.        , 0.04697338, 0.03357586, 0.02300352,\n",
       "        0.02562002, 0.        , 0.00323124, 0.00454423, 0.03137904,\n",
       "        0.        , 0.00913653, 0.02367804, 0.00823443, 0.        ,\n",
       "        0.02880757, 0.0438911 , 0.0388811 , 0.00510874, 0.0228529 ,\n",
       "        0.03259254, 0.05511401, 0.        , 0.10513642, 0.01949539,\n",
       "        0.00472403, 0.12027058, 0.01351249, 0.06210294, 0.02827737,\n",
       "        0.00444773, 0.02667657, 0.06088892, 0.        , 0.01605117]])"
      ]
     },
     "execution_count": 11,
     "metadata": {},
     "output_type": "execute_result"
    }
   ],
   "source": [
    "kmeans.cluster_centers_"
   ]
  },
  {
   "cell_type": "code",
   "execution_count": 12,
   "metadata": {},
   "outputs": [
    {
     "data": {
      "text/plain": [
       "0.09506638073278983"
      ]
     },
     "execution_count": 12,
     "metadata": {},
     "output_type": "execute_result"
    }
   ],
   "source": [
    "from sklearn import metrics\n",
    "import numpy as np\n",
    "metrics.silhouette_score(data, kmeans.labels_, metric='euclidean')"
   ]
  },
  {
   "cell_type": "code",
   "execution_count": 13,
   "metadata": {},
   "outputs": [
    {
     "data": {
      "text/plain": [
       "15.570191390843512"
      ]
     },
     "execution_count": 13,
     "metadata": {},
     "output_type": "execute_result"
    }
   ],
   "source": [
    "metrics.calinski_harabasz_score(data.toarray(), kmeans.labels_)"
   ]
  },
  {
   "cell_type": "code",
   "execution_count": 14,
   "metadata": {},
   "outputs": [],
   "source": [
    "df['label'] = kmeans.labels_\n",
    "label = df.groupby('label')"
   ]
  },
  {
   "cell_type": "code",
   "execution_count": 15,
   "metadata": {},
   "outputs": [
    {
     "name": "stdout",
     "output_type": "stream",
     "text": [
      "group: 0\n",
      "['constraint' 'search']\n",
      "group: 1\n",
      "['reason' 'krr']\n",
      "group: 2\n",
      "['gtep' 'game']\n",
      "group: 3\n",
      "['ps' 'plan']\n",
      "group: 4\n",
      "['nmla' 'learn']\n",
      "group: 5\n",
      "['social' 'network']\n",
      "group: 6\n",
      "['aiw' 'web']\n",
      "group: 7\n",
      "['learn' 'method']\n",
      "group: 8\n",
      "['learn' 'imag']\n",
      "group: 9\n",
      "['design' 'mechan']\n"
     ]
    }
   ],
   "source": [
    "for k, v in label.groups.items():\n",
    "    print(\"group: %d\" % k)\n",
    "    print(cv.get_feature_names_out()[np.array(data[v].todense().sum(axis=0))[0].argsort()[-2:]])"
   ]
  },
  {
   "cell_type": "code",
   "execution_count": 16,
   "metadata": {},
   "outputs": [
    {
     "data": {
      "text/plain": [
       "[<matplotlib.lines.Line2D at 0x11f9a5eb0>]"
      ]
     },
     "execution_count": 16,
     "metadata": {},
     "output_type": "execute_result"
    },
    {
     "data": {
      "image/png": "[encoded data removed]",
      "text/plain": [
       "<Figure size 720x576 with 1 Axes>"
      ]
     },
     "metadata": {
      "needs_background": "light"
     },
     "output_type": "display_data"
    }
   ],
   "source": [
    "import matplotlib.pyplot as plt\n",
    "wcss = []\n",
    "for k in range(2, 20):\n",
    "    clf = KMeans(n_clusters=k, random_state=2022).fit(data)\n",
    "    wcss.append(clf.inertia_)\n",
    "plt.figure(figsize = (10, 8))\n",
    "plt.plot(range(2, 20), wcss, marker='o')"
   ]
  },
  {
   "cell_type": "markdown",
   "metadata": {},
   "source": [
    "拐点为k=6"
   ]
  },
  {
   "cell_type": "code",
   "execution_count": 17,
   "metadata": {},
   "outputs": [
    {
     "name": "stdout",
     "output_type": "stream",
     "text": [
      "group: 0\n",
      "['imag' 'graph']\n",
      "group: 1\n",
      "['framework' 'data']\n",
      "group: 2\n",
      "['constraint' 'search']\n",
      "group: 3\n",
      "['mechan' 'game']\n",
      "group: 4\n",
      "['behavior' 'imag']\n",
      "group: 5\n",
      "['robot' 'plan']\n"
     ]
    }
   ],
   "source": [
    "kmeans = KMeans(n_clusters=6, random_state=2022)\n",
    "kmeans.fit(data)\n",
    "df['label'] = kmeans.labels_\n",
    "label = df.groupby('label')\n",
    "for k, v in label.groups.items():\n",
    "    print(\"group: %d\" % k)\n",
    "    print(cv.get_feature_names_out()[np.array(data[v].todense().max(axis=0))[0].argsort()[-2:]])"
   ]
  },
  {
   "cell_type": "code",
   "execution_count": 18,
   "metadata": {
    "scrolled": true
   },
   "outputs": [
    {
     "data": {
      "image/png": "[encoded data removed]",
      "text/plain": [
       "<Figure size 432x288 with 1 Axes>"
      ]
     },
     "metadata": {
      "needs_background": "light"
     },
     "output_type": "display_data"
    }
   ],
   "source": [
    "imp_features = []\n",
    "imp_idx = []\n",
    "for k, v in label.groups.items():\n",
    "    imp_features.extend(cv.get_feature_names_out()[np.array(data[v].todense().max(axis=0))[0].argsort()[-3:]])\n",
    "    imp_idx.extend(np.array(data[v].todense().sum(axis=0))[0].argsort()[-3:])\n",
    "#标签\n",
    "labels = imp_features\n",
    "#每个类别中心点数据\n",
    "plot_data = kmeans.cluster_centers_[:,imp_idx]\n",
    "#指定颜色\n",
    "color = ['b', 'g', 'r', 'c', 'y', 'grey']\n",
    "# 设置角度\n",
    "angles = np.linspace(0, 2*np.pi, len(plot_data[0]), endpoint=False)\n",
    "# 闭合\n",
    "angles = np.concatenate((angles, [angles[0]]))\n",
    "plot_data = np.concatenate((plot_data, plot_data[:,[0]]), axis=1)\n",
    "\n",
    "fig = plt.figure()\n",
    "ax = fig.add_subplot(111, polar=True) # polar参数为True即极坐标系\n",
    "for i in range(len(plot_data)):\n",
    "    ax.plot(angles, plot_data[i], 'o-', color = color[i], label = i, linewidth=2)\n",
    "\n",
    "ax.set_thetagrids(angles * 180/np.pi, np.append(labels, labels[0]))\n",
    "plt.legend()\n",
    "plt.show()"
   ]
  },
  {
   "cell_type": "code",
   "execution_count": null,
   "metadata": {},
   "outputs": [],
   "source": []
  },
  {
   "cell_type": "code",
   "execution_count": null,
   "metadata": {},
   "outputs": [],
   "source": []
  },
  {
   "cell_type": "code",
   "execution_count": null,
   "metadata": {},
   "outputs": [],
   "source": []
  }
 ],
 "metadata": {
  "kernelspec": {
   "display_name": "Python 3 (ipykernel)",
   "language": "python",
   "name": "python3"
  },
  "language_info": {
   "codemirror_mode": {
    "name": "ipython",
    "version": 3
   },
   "file_extension": ".py",
   "mimetype": "text/x-python",
   "name": "python",
   "nbconvert_exporter": "python",
   "pygments_lexer": "ipython3",
   "version": "3.9.12"
  }
 },
 "nbformat": 4,
 "nbformat_minor": 4
}
